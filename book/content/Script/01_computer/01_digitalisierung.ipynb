{
 "cells": [
  {
   "cell_type": "markdown",
   "metadata": {},
   "source": [
    "# Digitalisierung"
   ]
  },
  {
   "cell_type": "markdown",
   "metadata": {},
   "source": [
    "Die Grundlage für alle modernen Computer ist die [Digitalisierung](https://de.wikipedia.org/wiki/Digitalisierung). Diese ermöglicht es reale Informationen, Kommunikationsformen oder Anweisungen als eine Folge von zwei Zuständen 1/0 darzustellen. Computersysteme nutzen diese Reduktion bzw. Vereinfachung auf nur zwei Zustände zum Speichern, Übertragen und Verarbeiten von Daten."
   ]
  },
  {
   "cell_type": "markdown",
   "metadata": {},
   "source": [
    "Oft werden elektrische Spannungen zur Darstellung der Zustände verwendet. Diese können zeitlich oder auch örtlich, z.B. aufgrund einer Magnetisierung, vorkommen. Die folgende Abbildung verdeutlicht eine Abfolge von Zuständen mit den entsprechenden Zustandswechseln."
   ]
  },
  {
   "cell_type": "code",
   "execution_count": 2,
   "metadata": {
    "tags": [
     "remove_input"
    ]
   },
   "outputs": [],
   "source": [
    "import matplotlib as mpl\n",
    "mpl.rcParams['figure.dpi'] = 400\n",
    "\n",
    "import matplotlib.pyplot as plt\n",
    "\n",
    "import numpy as np\n",
    "import seaborn as sns\n",
    "sns.set()\n",
    "#sns.set(style=\"whitegrid\")\n",
    "sns.set_style('ticks')\n",
    "sns.set_context(\"notebook\", font_scale=1.5, rc={\"lines.linewidth\": 2.5})\n",
    "\n",
    "#plt.style.use(\"seaborn-notebook\")\n",
    "\n",
    "nt = 100\n",
    "t_p = np.linspace(0, 1, nt)\n",
    "\n",
    "f_up = 1 - np.exp(-t_p*10)\n",
    "f_down = np.exp(-t_p*10)\n",
    "\n",
    "def create_signal(s):\n",
    "    t_global = np.zeros(len(s)*nt)\n",
    "    s_global = np.zeros_like(t_global)\n",
    "    t_global[0:nt] = t_p\n",
    "    s_global[0:nt] = s[0]\n",
    "    for i in range(1,len(s)):\n",
    "        t_global[nt*i:nt*(i+1)] = t_p + i\n",
    "        if s[i] == 0:\n",
    "            if s[i-1] == 1:\n",
    "                s_global[nt*i:nt*(i+1)] = f_down\n",
    "            else:\n",
    "                s_global[nt*i:nt*(i+1)] = 0\n",
    "        if s[i] == 1:\n",
    "            if s[i-1] == 0:\n",
    "                s_global[nt*i:nt*(i+1)] = f_up\n",
    "            else:\n",
    "                s_global[nt*i:nt*(i+1)] = 1    \n",
    "    # t_global[-nt:] = t_p + len(s)\n",
    "    # s_global[-nt:] = s[-1]\n",
    "    return t_global, s_global\n",
    "\n",
    "s = [0, 1, 1, 0, 1, 0, 1, 0]\n",
    "c = [0, 1, 0, 1, 0, 1, 0, 1]\n",
    "\n",
    "t_global, s_global = create_signal(s)\n",
    "t_global, c_global = create_signal(c)\n",
    "\n",
    "s_global += (0.5 - np.random.random(len(s_global)))*2 * 0.015\n",
    "c_global += (0.5 - np.random.random(len(c_global)))*2 * 0.015\n",
    "\n",
    "plt.plot(t_global, s_global, label='analog')\n",
    "# plt.scatter(td, fd, label='digital', color=\"C1\")\n",
    "plt.xlabel(\"Zeit / Ort\")\n",
    "plt.ylabel(\"Zustandssignal\")\n",
    "\n",
    "sns.despine()\n",
    "\n",
    "\n",
    "xmajor_ticks = np.arange(0, len(s)+2, 1)\n",
    "xminor_ticks = np.arange(0, len(s)+2, 1)\n",
    "ymajor_ticks = np.arange(0, 2, 1)\n",
    "yminor_ticks = np.arange(0, 2, 1)\n",
    "\n",
    "ax = plt.gca()\n",
    "\n",
    "ax.set_xticks(xmajor_ticks)\n",
    "ax.set_xticks(xminor_ticks, minor=True)\n",
    "ax.set_yticks(ymajor_ticks)\n",
    "ax.set_yticks(yminor_ticks, minor=True)\n",
    "\n",
    "one = np.ones_like(t_global)\n",
    "plt.fill_between(t_global, 0.9*one, 1.1*one, alpha=0.2, color=\"C2\")\n",
    "plt.fill_between(t_global, -0.1*one, 0.1*one, alpha=0.2, color=\"C2\")\n",
    "\n",
    "plt.xticks([])\n",
    "\n",
    "plt.tight_layout()\n",
    "plt.grid(which='both')\n",
    "# plt.legend()\n",
    "plt.savefig('./bilder/digital_state.svg')\n",
    "# plt.show()\n",
    "plt.close()"
   ]
  },
  {
   "cell_type": "markdown",
   "metadata": {},
   "source": [
    ":::{figure-md} fig-digital_state\n",
    "\n",
    "<img src=\"./bilder/digital_state.svg\" width=\"60%\">\n",
    "\n",
    "Zustandssignal\n",
    ":::"
   ]
  },
  {
   "cell_type": "markdown",
   "metadata": {},
   "source": [
    "Insbesondere bei zeitlich übermittelten Informationen, ist die Definition der Validität des Zustandssignals wichtig. Hierfür kann ein Taktsignal verwendet werden, welches z.B. Zustandsänderungen bei einem Wert von 0 erlaubt und bei einem Wert von 1 kann der Datenzustand verarbeitet werden."
   ]
  },
  {
   "cell_type": "code",
   "execution_count": 6,
   "metadata": {
    "tags": [
     "remove_input"
    ]
   },
   "outputs": [],
   "source": [
    "s = [0, 0, 1, 1, 0, 0, 0, 0, 1, 1, 0, 0, 1]\n",
    "c = [0, 1, 0, 1, 0, 1, 0, 1, 0, 1, 0, 1, 0]\n",
    "\n",
    "t_global, s_global = create_signal(s)\n",
    "t_global, c_global = create_signal(c)\n",
    "\n",
    "s_global += (0.5 - np.random.random(len(s_global)))*2 * 0.015\n",
    "c_global += (0.5 - np.random.random(len(c_global)))*2 * 0.015\n",
    "\n",
    "plt.plot(t_global, s_global + 2, label='Daten')\n",
    "plt.plot(t_global, c_global, label='Takt')\n",
    "# plt.scatter(td, fd, label='digital', color=\"C1\")\n",
    "plt.xlabel(\"Zeit\")\n",
    "plt.ylabel(\"Zustandssignal\")\n",
    "\n",
    "sns.despine()\n",
    "\n",
    "\n",
    "xmajor_ticks = np.arange(0, len(s)+2, 1)\n",
    "xminor_ticks = np.arange(0, len(s)+2, 1)\n",
    "ymajor_ticks = np.arange(0, 4, 1)\n",
    "yminor_ticks = np.arange(0, 4, 1)\n",
    "\n",
    "ax = plt.gca()\n",
    "\n",
    "ax.set_xticks(xmajor_ticks)\n",
    "ax.set_xticks(xminor_ticks, minor=True)\n",
    "ax.set_yticks(ymajor_ticks)\n",
    "ax.set_yticklabels(['0','1','0','1'])\n",
    "# ax.set_yticks(yminor_ticks, minor=True)\n",
    "\n",
    "plt.xticks([])\n",
    "\n",
    "one = np.ones_like(t_global)\n",
    "a1 = 0.05\n",
    "plt.fill_between(t_global,  0.9*one, 1.1*one, alpha=a1, color=\"C2\")\n",
    "plt.fill_between(t_global, -0.1*one, 0.1*one, alpha=a1, color=\"C2\")\n",
    "plt.fill_between(t_global,  2.9*one, 3.1*one, alpha=a1, color=\"C2\")\n",
    "plt.fill_between(t_global,  1.9*one, 2.1*one, alpha=a1, color=\"C2\")\n",
    "\n",
    "for i in range(1,len(c),2):\n",
    "    ax.fill_betweenx([-0.1,3.1], i,i+1, alpha=a1, color=\"C2\")\n",
    "    if s[i] == 1:\n",
    "        y0 = 3\n",
    "    else:\n",
    "        y0 = 2\n",
    "    ax.fill_betweenx([y0-0.1,y0+0.1], i,i+1, alpha=7*a1, color=\"C2\")\n",
    "\n",
    "plt.tight_layout()\n",
    "plt.grid(which='both')\n",
    "plt.legend()\n",
    "plt.savefig('./bilder/digital_state_clock.svg')\n",
    "# plt.show()\n",
    "plt.close()"
   ]
  },
  {
   "cell_type": "markdown",
   "metadata": {},
   "source": [
    ":::{figure-md} fig-digital_state_clock\n",
    "\n",
    "<img src=\"./bilder/digital_state_clock.svg\" width=\"60%\">\n",
    "\n",
    "Zustandssignal mit Zeitsignal\n",
    ":::"
   ]
  },
  {
   "cell_type": "markdown",
   "metadata": {},
   "source": [
    "In den folgenden Abschnitten wird der Unterschied zwischen analogen und digitalen Informationen verdeutlicht. Dabei wird auch kurz die Umwandlung zwischen beiden Formen vorgestellt. Da Zahlen und Zeichen eine besondere Rolle in der Digitalisierung einnehmen, wird abschließend die digitale Zahlendarstellung für ganze und reelle Zahlen präsentiert."
   ]
  }
 ],
 "metadata": {
  "kernelspec": {
   "display_name": "Python 3",
   "language": "python",
   "name": "python3"
  },
  "language_info": {
   "codemirror_mode": {
    "name": "ipython",
    "version": 3
   },
   "file_extension": ".py",
   "mimetype": "text/x-python",
   "name": "python",
   "nbconvert_exporter": "python",
   "pygments_lexer": "ipython3",
   "version": "3.8.6"
  }
 },
 "nbformat": 4,
 "nbformat_minor": 4
}
