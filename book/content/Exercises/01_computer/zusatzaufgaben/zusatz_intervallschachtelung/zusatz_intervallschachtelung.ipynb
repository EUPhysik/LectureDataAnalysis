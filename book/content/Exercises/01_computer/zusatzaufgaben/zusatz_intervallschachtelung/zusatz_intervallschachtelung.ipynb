{
 "cells": [
  {
   "cell_type": "markdown",
   "metadata": {
    "tags": [
     "remove_cell"
    ]
   },
   "source": [
    "<div style=\"width: 100%; overflow: hidden;\">\n",
    "    <div style=\"width: 500px; float: left;\"> \n",
    "        <h1>Ingenieurinformatik – Übung</h1>\n",
    "        Lehrstuhl <b>Computational Civil Engineering</b><br>\n",
    "        Kontakt: <a href = \"mailto: cce-inginf@uni-wuppertal.de\">Email senden</a> | Individuelle Kontakte siehe Webseite des Lehrstuhls<br>\n",
    "        Links: \n",
    "        <a href=\"cce.uni-wuppertal.de/inginf\">Vorlesungsskript</a> | \n",
    "        <a href=\"cce.uni-wuppertal.de/\">Webseite des Lehrstuhls</a>\n",
    "    </div>\n",
    "    <div style=\"float:right;\"> \n",
    "        <img src=\"logo_cce_combined.png\" style=\"width:150px;\"/>\n",
    "    </div>\n",
    "</div>"
   ]
  },
  {
   "cell_type": "markdown",
   "metadata": {},
   "source": [
    "# Intervallschachtelung"
   ]
  },
  {
   "cell_type": "markdown",
   "metadata": {},
   "source": [
    "## Aufgabe 1\n",
    "\n",
    "Gegeben sei eine Funktion  $f(x)=e^{0.5x} + 0.5x$ . Finden Sie die Nullstelle auf dem Intervall $[-2,-1]$. Benutzen Sie die gleiche Methode, wie in Übung 1.3:"
   ]
  },
  {
   "cell_type": "markdown",
   "metadata": {},
   "source": [
    "### Lösung\n",
    "```{toggle}\n",
    "    a = -1.5      b = -1 \t    |a-b| = 0.5\n",
    "    a = -1.25     b = -1 \t    |a-b| = 0.25\n",
    "    a = -1.25     b = -1.125     |a-b| = 0.125\n",
    "    a = -1.1875   b = -1.125     |a-b| = 0.0625\n",
    "```"
   ]
  },
  {
   "cell_type": "markdown",
   "metadata": {},
   "source": [
    "## Aufgabe 2\n",
    "\n",
    "Finden Sie die Kreuzungen von 2 Funktionen. Gegeben sind: \n",
    "-\t$f(x) = 2.sin(x)$\n",
    "-\t$g(x) = cos(x) - 0.3$\n",
    "\n",
    "Finden Sie mit Hilfe der Intervallschachtelung, in welchen Punkten sich die Funktionen kreuzen. Ihre Lösung ist in Ordnung, wenn sie näher als $0.1$ an der analytischen Lösung liegt. Suche auf dem Intervall $[0,\\pi/2]$\n",
    "\n",
    "Argumentieren Sie, warum diese Methode nicht funktionieren würde, um den Schnittpunkt zwischen $f(x) =x^3 - x^2$ und $g(x) = 4x-4$ zu finden, wenn das Intervall $[-3,3]$ gewählt würde."
   ]
  },
  {
   "cell_type": "markdown",
   "metadata": {},
   "source": [
    "### Lösung\n",
    "```{toggle}\n",
    "Die Stelle zu finden, an der sich f(x) und g(x) kreuzen, ist dasselbe wie die Stelle zu finden, an der f(x) - g(x) = 0 ist. Da sich das Problem nun darauf reduziert, die Nullstellen der Kurve zu finden, können wir die gleiche Methode wie in Übung 1.3 anwenden:\n",
    "\n",
    "    a = 0       b = 1.5707\n",
    "\ta = 0       b = 0.7894\n",
    "\ta = 0       b = 0.3927\n",
    "\ta = 0.1963  b = 0.3927\n",
    "\ta = 0.2945  b = 0.3927\n",
    "\n",
    "Das Finden des Schnittpunkts zwischen f(x) und g(x) ist dasselbe wie das Finden der Nullstellen von h(x) = f(x) - g(x). Wenn wir nun die gleiche Methode wie in Übung 1.3 anwenden, ergibt sich folgendes: \n",
    "\n",
    "\ta = -3       b = 0\n",
    "\ta = -3       b = -1.5\n",
    "\ta = -2.25    b = -1.5\n",
    "\ta = -2.25    b = -1.875\n",
    "\ta = -2.0625  b = -1.875\n",
    "\ta = -2.0625  b = -1.9688\n",
    "    \n",
    "Wenn Sie die Gleichung jedoch analytisch lösen, würden Sie 3 Nullstellen finden: -2,1,2. Diese Methode funktioniert nur, wenn nur ein Nullpunkt auf dem Intervall gefunden werden kann.\n",
    "wesentlich länger dauert als das Lesen.\n",
    "```"
   ]
  },
  {
   "cell_type": "code",
   "execution_count": null,
   "metadata": {},
   "outputs": [],
   "source": []
  }
 ],
 "metadata": {
  "celltoolbar": "Tags",
  "kernelspec": {
   "display_name": "Python 3",
   "language": "python",
   "name": "python3"
  },
  "language_info": {
   "codemirror_mode": {
    "name": "ipython",
    "version": 3
   },
   "file_extension": ".py",
   "mimetype": "text/x-python",
   "name": "python",
   "nbconvert_exporter": "python",
   "pygments_lexer": "ipython3",
   "version": "3.7.7"
  }
 },
 "nbformat": 4,
 "nbformat_minor": 4
}
