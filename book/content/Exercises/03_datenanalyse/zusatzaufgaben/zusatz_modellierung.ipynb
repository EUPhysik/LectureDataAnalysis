{
 "cells": [
  {
   "cell_type": "markdown",
   "metadata": {
    "tags": [
     "remove-cell"
    ]
   },
   "source": [
    "<div style=\"width: 100%; overflow: hidden;\">\n",
    "    <div style=\"width: 500px; float: left;\"> \n",
    "        <h1>Ingenieurinformatik – Übung</h1>\n",
    "        Lehrstuhl <b>Computational Civil Engineering</b><br>\n",
    "        Kontakt: <a href = \"mailto: cce-inginf@uni-wuppertal.de\">Email senden</a> | Individuelle Kontakte siehe Webseite des Lehrstuhls<br>\n",
    "        Links: \n",
    "        <a href=\"cce.uni-wuppertal.de/inginf\">Vorlesungsskript</a> | \n",
    "        <a href=\"cce.uni-wuppertal.de/\">Webseite des Lehrstuhls</a>\n",
    "    </div>\n",
    "    <div style=\"float:right;\"> \n",
    "        <img src=\"logo_cce_combined.png\" style=\"width:150px;\"/>\n",
    "    </div>\n",
    "</div>"
   ]
  },
  {
   "cell_type": "markdown",
   "metadata": {},
   "source": [
    "# Modellierung"
   ]
  },
  {
   "cell_type": "markdown",
   "metadata": {},
   "source": [
    "## Lineare Regression"
   ]
  },
  {
   "cell_type": "markdown",
   "metadata": {},
   "source": [
    "### Lineare Regression zu Fuß\n",
    "\n",
    "Gegeben sind zwei numpy Arrays. Die Daten Zeigen das Verhähltnis zwischen Lernzeit und Note für 10 Studentinnen.\n",
    "\n",
    "`Lernzeit = np.array([2,7,11,17,20,22,30,35,39,41])`\n",
    "\n",
    "`Note = np.array([5,5,4,3.7,3,3.7,2.7,2,2.3,1])`\n",
    "\n",
    "I. Plotten Sie die Daten auf ein Scatter Plot, wobei die Lernzeit auf der X-Achse und der Note auf der Y-Achse aufgetragen werden sollen.\n",
    "\n",
    "II. Eine lineare Regression sucht die Gerade, die den quadratischen Abstand aller Messwerte zu jener Gerade minimiert. Folgend sind die beiden Formeln für die Steigung $m$ und den y-Achsenabschnitt $b$ der gesuchten Gerade. $n$ ist die Anzahl der Datenpunkte.\n",
    "\n",
    "$$\n",
    "m &= \\frac{(n \\cdot \\sum xy) - (\\sum x \\cdot \\sum y)}{(n \\cdot \\sum x^2) - ((\\sum x)^2)}\\\\\n",
    "b &= \\frac{\\sum y - (m \\cdot \\sum x)}{n}\n",
    "$$\n",
    "\n",
    "Berechnen Sie mit den gegebenen Daten und mithilfe der beiden Formeln die Gerade.\n",
    "\n",
    "III. Speichern Sie die berechnete Gerade in einer Funktion und bennenen Sie diese. "
   ]
  },
  {
   "cell_type": "markdown",
   "metadata": {},
   "source": [
    "#### Lösung I"
   ]
  },
  {
   "cell_type": "code",
   "execution_count": 1,
   "metadata": {
    "tags": [
     "hide-input",
     "hide-ourput"
    ]
   },
   "outputs": [
    {
     "data": {
      "image/png": "[encoded data removed]",
      "text/plain": [
       "<Figure size 432x288 with 1 Axes>"
      ]
     },
     "metadata": {
      "needs_background": "light"
     },
     "output_type": "display_data"
    }
   ],
   "source": [
    "import numpy as np\n",
    "import matplotlib.pyplot as plt\n",
    "\n",
    "Lernzeit = np.array([2,7,11,17,20,22,30,35,39,41])\n",
    "Note = np.array([5,5,4,3.7,3,3.7,2.7,2,2.3,1])\n",
    "\n",
    "plt.scatter(Lernzeit,Note)\n",
    "plt.xlabel('Lernzeit / St')\n",
    "plt.ylabel('Note')\n",
    "plt.show()"
   ]
  },
  {
   "cell_type": "markdown",
   "metadata": {},
   "source": [
    "#### Lösung II"
   ]
  },
  {
   "cell_type": "code",
   "execution_count": 24,
   "metadata": {
    "tags": [
     "hide-input",
     "hide-output"
    ]
   },
   "outputs": [
    {
     "name": "stdout",
     "output_type": "stream",
     "text": [
      "-0.09101666264187402\n",
      "5.278773243177978\n"
     ]
    }
   ],
   "source": [
    "#Steigung\n",
    "\n",
    "x_summe = np.sum(Lernzeit)\n",
    "y_summe = np.sum(Note)\n",
    "xy_summe = np.sum(Lernzeit*Note)\n",
    "xx_summe = np.sum(Lernzeit**2)\n",
    "\n",
    "m = ((10*xy_summe)-(x_summe*y_summe))/((10*xx_summe)-(x_summe**2))\n",
    "print(m)\n",
    "\n",
    "#Achsenabschnitt\n",
    "\n",
    "b = (y_summe-m*x_summe)/10\n",
    "print(b)"
   ]
  },
  {
   "cell_type": "markdown",
   "metadata": {},
   "source": [
    "#### Lösung III"
   ]
  },
  {
   "cell_type": "code",
   "execution_count": 4,
   "metadata": {
    "tags": [
     "hide-input"
    ]
   },
   "outputs": [],
   "source": [
    "# y = m*x + b\n",
    "\n",
    "def zufuss(Stunden):\n",
    "    return -0.091*Stunden + 5.278"
   ]
  },
  {
   "cell_type": "markdown",
   "metadata": {},
   "source": [
    "### Lineare Regression mit `np.polyfit()`\n",
    "\n",
    "Berechnen Sie die Koeffizienten $m$ und $b$ mithilfe `np.polyfit()`."
   ]
  },
  {
   "cell_type": "markdown",
   "metadata": {},
   "source": [
    "#### Lösung"
   ]
  },
  {
   "cell_type": "code",
   "execution_count": 5,
   "metadata": {
    "tags": [
     "hide-input",
     "hide-output"
    ]
   },
   "outputs": [
    {
     "data": {
      "text/plain": [
       "array([-0.09101666,  5.27877324])"
      ]
     },
     "execution_count": 5,
     "metadata": {},
     "output_type": "execute_result"
    }
   ],
   "source": [
    "polyline = np.polyfit(Lernzeit,Note,1)\n",
    "polyline"
   ]
  },
  {
   "cell_type": "markdown",
   "metadata": {},
   "source": [
    "### Vergleichen der Lösungswege\n",
    "\n",
    "Plotten Sie die Datenpunkte, und beide berechnete Linien mit matplotlib."
   ]
  },
  {
   "cell_type": "markdown",
   "metadata": {},
   "source": [
    "#### Lösung"
   ]
  },
  {
   "cell_type": "code",
   "execution_count": 6,
   "metadata": {
    "tags": [
     "hide-input",
     "hide-output"
    ]
   },
   "outputs": [
    {
     "data": {
      "image/png": "[encoded data removed]",
      "text/plain": [
       "<Figure size 432x288 with 1 Axes>"
      ]
     },
     "metadata": {
      "needs_background": "light"
     },
     "output_type": "display_data"
    }
   ],
   "source": [
    "plt.plot(Lernzeit, polyline[0]*Lernzeit + polyline[1], 'r', label='np.polyfit')\n",
    "plt.plot(Lernzeit, zufuss(Lernzeit), '--y', label='Zufuß')\n",
    "plt.scatter(Lernzeit, Note, label='Datenpunkte')\n",
    "plt.xlabel('Lernzeit / St')\n",
    "plt.ylabel('Note')\n",
    "plt.legend()\n",
    "plt.show()"
   ]
  },
  {
   "cell_type": "markdown",
   "metadata": {},
   "source": [
    "### Schätzung\n",
    "\n",
    "Eine Regression erlaubt es, Erwartungswerte für Punkte zu erhalten, für die man keine Daten hat.\\\n",
    "Was wäre die erwartete Note einer Studentin, die 25 Stunden gelernt hat? "
   ]
  },
  {
   "cell_type": "markdown",
   "metadata": {},
   "source": [
    "#### Lösung"
   ]
  },
  {
   "cell_type": "code",
   "execution_count": 7,
   "metadata": {
    "tags": [
     "hide-input",
     "hide-output"
    ]
   },
   "outputs": [
    {
     "name": "stdout",
     "output_type": "stream",
     "text": [
      "3.0029999999999997\n"
     ]
    },
    {
     "data": {
      "image/png": "[encoded data removed]",
      "text/plain": [
       "<Figure size 432x288 with 1 Axes>"
      ]
     },
     "metadata": {
      "needs_background": "light"
     },
     "output_type": "display_data"
    }
   ],
   "source": [
    "print(zufuss(25))\n",
    "\n",
    "plt.scatter(25, zufuss(25), c='g', label='Prediction')\n",
    "\n",
    "plt.plot(Lernzeit, polyline[0]*Lernzeit + polyline[1], 'r', label='np.polyfit')\n",
    "plt.plot(Lernzeit, zufuss(Lernzeit), '--y', label='Zufuß')\n",
    "plt.scatter(Lernzeit, Note, label='Datenpunkte')\n",
    "plt.xlabel('Lernzeit / St')\n",
    "plt.ylabel('Note')\n",
    "plt.legend()\n",
    "plt.show()"
   ]
  },
  {
   "cell_type": "code",
   "execution_count": null,
   "metadata": {},
   "outputs": [],
   "source": []
  }
 ],
 "metadata": {
  "celltoolbar": "Tags",
  "kernelspec": {
   "display_name": "Python 3",
   "language": "python",
   "name": "python3"
  },
  "language_info": {
   "codemirror_mode": {
    "name": "ipython",
    "version": 3
   },
   "file_extension": ".py",
   "mimetype": "text/x-python",
   "name": "python",
   "nbconvert_exporter": "python",
   "pygments_lexer": "ipython3",
   "version": "3.7.3"
  }
 },
 "nbformat": 4,
 "nbformat_minor": 4
}
