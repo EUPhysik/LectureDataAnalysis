{
 "cells": [
  {
   "cell_type": "markdown",
   "metadata": {},
   "source": [
    "# Zusatzaufgaben"
   ]
  },
  {
   "cell_type": "markdown",
   "metadata": {},
   "source": [
    "Hier finden Sie eine Sammlung an zusätzlichen Aufgaben, die Sie nutzen können, um die behandelten Themen zu wiederholen und routinierter in ihrem Umgang zu werden."
   ]
  },
  {
   "cell_type": "markdown",
   "metadata": {},
   "source": [
    "**[Algorithmen](./zusatz_algorithmen/zusatz_algorithmen)**\n",
    "\n",
    "Diese Aufgabenteil erhält allgemeine Fragestellungen zu Algorithmen."
   ]
  },
  {
   "cell_type": "markdown",
   "metadata": {},
   "source": [
    "**[Programmablaufpläne](./zusatz_programmablaufplaene/zusatz_programmablaufplaene)**\n",
    "\n",
    "In dieser Aufgabe wird die Erstellung von Programmablaufplänen zu Darstellung von Algorithmen behandelt."
   ]
  },
  {
   "cell_type": "markdown",
   "metadata": {},
   "source": [
    "**[Perfekte (volkommene) Zahlen](./zusatz_perfekte_zahlen/zusatz_perfekte_zahlen)**\n",
    "\n",
    "Diese Aufgabe behandelt die Erstellung von Algorithmen und Programmablaufplänen zur Bestimmung perfekter Zahlen."
   ]
  },
  {
   "cell_type": "markdown",
   "source": [
    "**[Intervallschachtelung](./zusatz_intervallschachtelung/zusatz_intervallschachtelung)**\n",
    "\n",
    "Diese Aufgabe vertieft die Anwendung von Intervalschachtelungen."
   ],
   "metadata": {
    "collapsed": false,
    "pycharm": {
     "name": "#%% md\n"
    }
   }
  },
  {
   "cell_type": "markdown",
   "source": [
    "**[Prozessorarchitekturen](./zusatz_architekturen/zusatz_architekturen)**\n",
    "\n",
    "Die Aufgabe behandelt Hardwarebeschleunigung von Grafikkarten."
   ],
   "metadata": {
    "collapsed": false
   }
  },
  {
   "cell_type": "markdown",
   "source": [
    "**[Betriebssysteme](./zusatz_betriebssysteme/zusatz_betriebssysteme)**\n",
    "\n",
    "Die Aufgabe behandelt virtuelle Maschinen.\n",
    "\n",
    "\n"
   ],
   "metadata": {
    "collapsed": false,
    "pycharm": {
     "name": "#%% md\n"
    }
   }
  }
 ],
 "metadata": {
  "celltoolbar": "Tags",
  "kernelspec": {
   "display_name": "Python 3",
   "language": "python",
   "name": "python3"
  },
  "language_info": {
   "codemirror_mode": {
    "name": "ipython",
    "version": 3
   },
   "file_extension": ".py",
   "mimetype": "text/x-python",
   "name": "python",
   "nbconvert_exporter": "python",
   "pygments_lexer": "ipython3",
   "version": "3.8.5"
  }
 },
 "nbformat": 4,
 "nbformat_minor": 4
}