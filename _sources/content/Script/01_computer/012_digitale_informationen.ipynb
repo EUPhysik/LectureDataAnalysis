{
 "cells": [
  {
   "cell_type": "markdown",
   "metadata": {},
   "source": [
    "# Digitale Informationen"
   ]
  },
  {
   "cell_type": "markdown",
   "metadata": {},
   "source": [
    "Digitale Informationenen, also beispielsweise Messwerte oder Signale, können nur endlich viele Werte annehmen. Das bedeutet, dass die Werte- und Zeitbereiche in endlich viele Intervalle aufgeteilt werden und somit quantisiert bzw. diskretisiert werden."
   ]
  },
  {
   "cell_type": "markdown",
   "metadata": {},
   "source": [
    "Trotz dieses Nachteils gegenüber analogen Informationen, gibt es eine Vielzahl von Vorteilen:\n",
    "* einfache und schnelle Vervielfältigung und Übertragung\n",
    "* hohe Flexibilität bei der Speicherung und Darstellung \n",
    "* einfache (Weiter-) Verarbeitung\n",
    "* Möglichkeit der Validierung und Verschlüsselung"
   ]
  },
  {
   "cell_type": "markdown",
   "metadata": {},
   "source": [
    "## Umwandlung analoger zu digitaler Signale"
   ]
  },
  {
   "cell_type": "markdown",
   "metadata": {},
   "source": [
    "Um aus analogen Werten, z.B. aus einem Experiment, digitale Werte für die Auswertung zu gewinnen, werden [Analog-Digital-Wandler (ADC)](https://de.wikipedia.org/wiki/Analog-Digital-Umsetzer) genutzt. Einfach gesagt, tastet ein ADC ein Signal mit einer vorgegebenen (endlichen) Abtastrate ab. Dabei wird der Signalwert einem der (endlich vielen) vorgegebenen Werteintervalle zugeordnet. \n",
    "Folgende Abbildung zeigt ein Beispiel für die Umwandlung eines analogen Signals (blaue Kurve) in ein digitales (rote Punkte). Hier ist das Abtastintervall im Zeit- und Wertbereich jeweils Eins, in der Abbildung durch das graue Gitter veranschaulicht. Damit kann die vom ADC ermittelte Folge von Werten nur Punkte auf dem Gitter enthalten."
   ]
  },
  {
   "cell_type": "code",
   "execution_count": 4,
   "metadata": {
    "tags": [
     "remove_input"
    ]
   },
   "outputs": [],
   "source": [
    "import matplotlib as mpl\n",
    "mpl.rcParams['figure.dpi']= 400\n",
    "\n",
    "import matplotlib.pyplot as plt\n",
    "\n",
    "import numpy as np\n",
    "import seaborn as sns\n",
    "sns.set()\n",
    "#sns.set(style=\"whitegrid\")\n",
    "sns.set_style('ticks')\n",
    "sns.set_context(\"notebook\", font_scale=1.5, rc={\"lines.linewidth\": 2.5})\n",
    "\n",
    "#plt.style.use(\"seaborn-notebook\")\n",
    "\n",
    "t = np.linspace(0, 10, 100)\n",
    "f = (np.cos(t) + 1) * 5*np.exp(-t/10) + 0.25\n",
    "\n",
    "td = np.linspace(0, 10, 11)\n",
    "fd = np.round((np.cos(td) + 1) * 5*np.exp(-td/10) + 0.25)\n",
    "\n",
    "\n",
    "#ax = sns.lineplot(t, f)\n",
    "plt.plot(t, f, label='analog')\n",
    "plt.scatter(td, fd, label='digital', color=\"C1\")\n",
    "plt.xlabel(\"Zeit\")\n",
    "plt.ylabel(\"Signal\")\n",
    "\n",
    "#ax.set(xlabel=\"Zeit\", ylabel=\"Signal\", label='analog')\n",
    "sns.despine()\n",
    "\n",
    "\n",
    "xmajor_ticks = np.arange(0, 12, 2)\n",
    "xminor_ticks = np.arange(0, 11, 1)\n",
    "ymajor_ticks = np.arange(0, 12, 2)\n",
    "yminor_ticks = np.arange(0, 11, 1)\n",
    "\n",
    "ax = plt.gca()\n",
    "\n",
    "ax.set_xticks(xmajor_ticks)\n",
    "ax.set_xticks(xminor_ticks, minor=True)\n",
    "ax.set_yticks(ymajor_ticks)\n",
    "ax.set_yticks(yminor_ticks, minor=True)\n",
    "\n",
    "plt.tight_layout()\n",
    "plt.grid(which='both')\n",
    "plt.legend()\n",
    "plt.savefig('./bilder/signal_digital_analog.svg')\n",
    "plt.close()"
   ]
  },
  {
   "cell_type": "markdown",
   "metadata": {},
   "source": [
    ":::{figure-md} fig-signal-digital-analog\n",
    "\n",
    "<img src=\"./bilder/signal_digital_analog.svg\" width=\"75%\">\n",
    "\n",
    "Digitales und analoges Signal.\n",
    ":::"
   ]
  },
  {
   "cell_type": "markdown",
   "metadata": {},
   "source": [
    "## Beispiel Temperaturmessung"
   ]
  },
  {
   "cell_type": "markdown",
   "metadata": {},
   "source": [
    "Eine einfache Möglichkeit zur digitalen Messung der Temperatur bieten Bauelemente wie das [DS18B20](https://datasheets.maximintegrated.com/en/ds/DS18B20.pdf).\n",
    "\n",
    ":::{figure-md} fig-DS18B20\n",
    "\n",
    "<img src=\"./bilder/DS18B20.png\" width=\"75%\">\n",
    "\n",
    "Bild: DS18B20\n",
    ":::"
   ]
  },
  {
   "cell_type": "code",
   "execution_count": 6,
   "metadata": {
    "tags": [
     "remove_input"
    ]
   },
   "outputs": [],
   "source": [
    "temp_data = np.array([15.44, 15.44, 15.44, 15.44, 15.44, 15.44, 15.44, \n",
    "                      15.44, 15.50, 15.50, 15.50, 15.50, 15.50, 15.50,\n",
    "                      15.50, 15.50, 15.44, 15.44, 15.44, 15.44, 15.44, \n",
    "                      15.44, 15.50, 15.50, 15.50, 15.50, 15.56, 15.56, \n",
    "                      15.56, 15.56, 15.56, 15.56, 15.56, 15.56, 15.56, \n",
    "                      15.56, 15.56, 15.56, 15.56, 15.50, 15.50, 15.50, \n",
    "                      15.50, 15.50, 15.50, 15.56, 15.56, 15.56, 15.56, \n",
    "                      15.56, 15.56, 15.56, 15.56, 15.62, 15.62, 15.56, \n",
    "                      15.62, 15.62, 15.62, 15.62, 15.62, 15.62, 15.62, \n",
    "                      15.69, 15.69, 15.69, 15.69, 15.69, 15.69, 15.69, \n",
    "                      15.62, 15.62, 15.56, 15.56, 15.50, 15.50, 15.50, \n",
    "                      15.50, 15.44, 15.50, 15.50, 15.50, 15.50, 15.50, \n",
    "                      15.50, 15.50, 15.50, 15.50, 15.50, 15.50, \n",
    "                      15.50, 15.50, 15.50, 15.50, 15.50, 15.50, 15.75, \n",
    "                      18.50, 21.00, 21.88, 22.44, 22.94, 23.25, 22.81, \n",
    "                      22.12, 21.56, 21.06, 20.56, 20.19, 19.81, 19.50, \n",
    "                      19.19, 18.94, 18.69, 18.69, 18.44, 18.25, 18.12, \n",
    "                      17.94, 17.81, 17.69, 17.62, 17.50, 17.38, 17.31, \n",
    "                      17.19, 17.12])\n",
    "time_data = range(len(temp_data))\n",
    "\n",
    "temp_range = 125 - (-55)\n",
    "temp_n = 2**12\n",
    "temp_delta = temp_range / temp_n\n",
    "#print(temp_delta)\n",
    "\n",
    "# print((temp_data+55) / temp_delta)\n",
    "# print(temp_data)\n",
    "# print(-55 + 0.05 + np.floor((temp_data+55) / temp_delta) * temp_delta)\n",
    "\n",
    "plt.plot(temp_data)\n",
    "plt.scatter(time_data, temp_data)\n",
    "plt.xlabel('Zeit /s')\n",
    "plt.ylabel('Temperatur /\\u00B0C')\n",
    "sns.despine()\n",
    "plt.tight_layout()\n",
    "plt.savefig('./bilder/temperatur_digital_all.svg')\n",
    "#plt.show()\n",
    "plt.close()\n",
    "\n",
    "xmajor_ticks = np.arange(0, 61, 10)\n",
    "xminor_ticks = np.arange(0, 61, 1)\n",
    "ymajor_ticks = np.arange(15.25, 15.75, 0.06)\n",
    "yminor_ticks = np.arange(15.25, 15.75, 0.06)\n",
    "\n",
    "ax = plt.gca()\n",
    "\n",
    "ax.set_xticks(xmajor_ticks)\n",
    "ax.set_xticks(xminor_ticks, minor=True)\n",
    "ax.set_yticks(ymajor_ticks)\n",
    "ax.set_yticks(yminor_ticks, minor=True)\n",
    "plt.tight_layout()\n",
    "plt.grid(which='both')\n",
    "\n",
    "plt.plot(temp_data - 0.01, alpha=0.3)\n",
    "plt.scatter(time_data, temp_data - 0.01)\n",
    "plt.xlabel('Zeit /s')\n",
    "plt.ylabel('Temperatur /\\u00B0C')\n",
    "plt.xlim([0,60])\n",
    "plt.ylim([15.25, 15.75])\n",
    "sns.despine()\n",
    "plt.tight_layout()\n",
    "plt.savefig('./bilder/temperatur_digital_zoom.svg')\n",
    "plt.close()"
   ]
  },
  {
   "cell_type": "markdown",
   "metadata": {},
   "source": [
    "Die beiden unteren Abbildungen zeigen eine Beispielmessung mit dem DS18B20. In der vergrößerten Darstellung wird der quantisierte Wertebereich deutlich. \n",
    "\n",
    ":::{figure-md} fig-temp-digital-all\n",
    "\n",
    "<img src=\"./bilder/temperatur_digital_all.svg\" width=\"80%\">\n",
    "\n",
    "Beispiel einer Temperaturmessung - gesamter Bereich.\n",
    ":::\n",
    "\n",
    ":::{figure-md} fig-temp-digital-zoom\n",
    "\n",
    "<img src=\"./bilder/temperatur_digital_zoom.svg\" width=\"80%\">\n",
    "\n",
    "Beispiel einer Temperaturmessung - vergrößerter Bereich.\n",
    ":::"
   ]
  },
  {
   "cell_type": "markdown",
   "metadata": {
    "tags": [
     "remove_cell"
    ]
   },
   "source": [
    "## Speicherung digitaler Werte"
   ]
  },
  {
   "cell_type": "markdown",
   "metadata": {
    "tags": [
     "remove_cell"
    ]
   },
   "source": [
    "## Übertragung digitaler Signale"
   ]
  },
  {
   "cell_type": "markdown",
   "metadata": {
    "tags": [
     "remove_cell"
    ]
   },
   "source": [
    "* Um mit digitalen / diskreten Werten und Signalen zu operieren, werden diese als Reihen von zwei Zuständen (0 und 1, oder wahr und falsch) dargestellt.\n",
    "* In der Elektrotechnik wird der Zustand (1) durch eine angelegte Spannung (z.B. 5V) dargestellt. Der Zustand (0) etspricht einer spannungsfreien Leitung.\n",
    "* Digitale Signale sind immer getaktet, dadurch wird der Zeitraum der Validität vorgegeben."
   ]
  },
  {
   "cell_type": "markdown",
   "metadata": {
    "tags": [
     "remove_cell"
    ]
   },
   "source": [
    ":::{figure-md} fig-i2c\n",
    "\n",
    "<img src=\"./bilder/tmp_i2c.png\" width=\"40%\">\n",
    "\n",
    "Bild anpassen?\n",
    ":::"
   ]
  },
  {
   "cell_type": "code",
   "execution_count": null,
   "metadata": {},
   "outputs": [],
   "source": []
  }
 ],
 "metadata": {
  "kernelspec": {
   "display_name": "Python 3",
   "language": "python",
   "name": "python3"
  },
  "language_info": {
   "codemirror_mode": {
    "name": "ipython",
    "version": 3
   },
   "file_extension": ".py",
   "mimetype": "text/x-python",
   "name": "python",
   "nbconvert_exporter": "python",
   "pygments_lexer": "ipython3",
   "version": "3.8.6"
  }
 },
 "nbformat": 4,
 "nbformat_minor": 4
}
